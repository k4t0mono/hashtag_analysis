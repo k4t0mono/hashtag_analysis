{
 "cells": [
  {
   "cell_type": "code",
   "execution_count": 1,
   "metadata": {},
   "outputs": [],
   "source": [
    "from __future__ import absolute_import, division, print_function, unicode_literals\n",
    "\n",
    "import pathlib\n",
    "import sklearn\n",
    "from sklearn.tree import DecisionTreeRegressor\n",
    "from sklearn.svm import SVR\n",
    "\n",
    "import matplotlib.pyplot as plt\n",
    "import numpy as np\n",
    "import pandas as pd\n",
    "import seaborn as sns\n",
    "import tensorflow as tf"
   ]
  },
  {
   "cell_type": "markdown",
   "metadata": {},
   "source": [
    "## Data"
   ]
  },
  {
   "cell_type": "code",
   "execution_count": 2,
   "metadata": {},
   "outputs": [],
   "source": [
    "dataset = pd.read_csv('data_log.csv')\n",
    "train_dataset = dataset.sample(frac=0.8, random_state=0xe621)\n",
    "test_dataset = dataset.drop(train_dataset.index)\n",
    "\n",
    "train_labels = train_dataset.pop('total_tweets')\n",
    "train_db = train_dataset.pop('db')\n",
    "test_labels = test_dataset.pop('total_tweets')\n",
    "test_db = test_dataset.pop('db')"
   ]
  },
  {
   "cell_type": "code",
   "execution_count": 3,
   "metadata": {},
   "outputs": [],
   "source": [
    "train_stats = train_dataset.describe().transpose()\n",
    "train_labels_stats = train_labels.describe().transpose()\n",
    "def norm(x):\n",
    "    return (x - train_stats['mean']) / train_stats['std']\n",
    "\n",
    "def denorm(z):\n",
    "    return z * train_labels_stats['std'] + train_labels_stats['mean']\n",
    "\n",
    "normed_train_data = norm(train_dataset)\n",
    "normed_test_data = norm(test_dataset)"
   ]
  },
  {
   "cell_type": "markdown",
   "metadata": {},
   "source": [
    "## Graphs"
   ]
  },
  {
   "cell_type": "code",
   "execution_count": 4,
   "metadata": {},
   "outputs": [],
   "source": [
    "def plot_prediction(test_labels, test_predictions):\n",
    "    plt.scatter(test_labels, test_predictions)\n",
    "    plt.xlabel('True Values [log(x)]')\n",
    "    plt.ylabel('Predictions [log(x)]')\n",
    "    plt.axis('equal')\n",
    "    plt.axis('square')\n",
    "    plt.xlim([0,plt.xlim()[1]])\n",
    "    plt.ylim([0,plt.ylim()[1]])\n",
    "    _ = plt.plot([-5, 5], [-5, 5])"
   ]
  },
  {
   "cell_type": "code",
   "execution_count": 5,
   "metadata": {},
   "outputs": [],
   "source": [
    "def plot_history(history):\n",
    "    hist = pd.DataFrame(history.history)\n",
    "    hist['epoch'] = history.epoch\n",
    "\n",
    "    plt.figure()\n",
    "    plt.xlabel('Epoch')\n",
    "    plt.ylabel('Mean Abs Error [MPG]')\n",
    "    plt.plot(hist['epoch'], hist['mae'],\n",
    "           label='Train Error')\n",
    "    plt.plot(hist['epoch'], hist['val_mae'],\n",
    "           label = 'Val Error')\n",
    "    #   plt.ylim([0,5])\n",
    "    plt.legend()\n",
    "\n",
    "    plt.figure()\n",
    "    plt.xlabel('Epoch')\n",
    "    plt.ylabel('Mean Square Error [$MPG^2$]')\n",
    "    plt.plot(hist['epoch'], hist['mse'],\n",
    "           label='Train Error')\n",
    "    plt.plot(hist['epoch'], hist['val_mse'],\n",
    "           label = 'Val Error')\n",
    "    #   plt.ylim([0,20])\n",
    "    plt.legend()\n",
    "\n",
    "    plt.figure()\n",
    "    plt.xlabel('Epoch')\n",
    "    plt.ylabel('Loss')\n",
    "    plt.plot(hist['epoch'], hist['loss'],\n",
    "           label='Loss')\n",
    "    plt.plot(hist['epoch'], hist['val_loss'],\n",
    "           label='Val Loss')\n",
    "    plt.legend()\n",
    "\n",
    "    plt.show()"
   ]
  },
  {
   "cell_type": "markdown",
   "metadata": {},
   "source": [
    "## Neural Network"
   ]
  },
  {
   "cell_type": "code",
   "execution_count": 6,
   "metadata": {},
   "outputs": [],
   "source": [
    "def build_model(hidden_layers):\n",
    "    layers = [\n",
    "        tf.keras.layers.Dense(41, activation='relu', input_shape=[len(train_dataset.keys())])\n",
    "    ]\n",
    "    \n",
    "    for layer_config in hidden_layers:\n",
    "        if len(layer_config) == 1:\n",
    "            size, activation = layer_config[0], 'relu'\n",
    "        else:\n",
    "            size, activation = layer_config\n",
    "        \n",
    "        layers.append(tf.keras.layers.Dense(size, activation=activation))\n",
    "    \n",
    "    layers.append(tf.keras.layers.Dense(1))\n",
    "    \n",
    "    model = tf.keras.Sequential(layers)\n",
    "\n",
    "    optimizer = tf.keras.optimizers.RMSprop(0.001)\n",
    "\n",
    "    model.compile(\n",
    "        loss='mse', optimizer=optimizer, metrics=['mae', 'mse']\n",
    "    )\n",
    "    \n",
    "    return model"
   ]
  },
  {
   "cell_type": "code",
   "execution_count": 7,
   "metadata": {},
   "outputs": [],
   "source": [
    "class PrintDot(tf.keras.callbacks.Callback):\n",
    "  def on_epoch_end(self, epoch, logs):\n",
    "    if epoch % 100 == 0: print('')\n",
    "    print('.', end='')"
   ]
  },
  {
   "cell_type": "markdown",
   "metadata": {},
   "source": [
    "### 82 on the hidden"
   ]
  },
  {
   "cell_type": "code",
   "execution_count": 8,
   "metadata": {},
   "outputs": [
    {
     "name": "stdout",
     "output_type": "stream",
     "text": [
      "WARNING:tensorflow:Falling back from v2 loop because of error: Failed to find data adapter that can handle input: <class 'pandas.core.frame.DataFrame'>, <class 'NoneType'>\n",
      "\n",
      "................................................................................................."
     ]
    }
   ],
   "source": [
    "nnr_82 = build_model([ (82, 'relu') ])\n",
    "\n",
    "EPOCHS = 1000\n",
    "\n",
    "early_stop = tf.keras.callbacks.EarlyStopping(monitor='val_loss', patience=10)\n",
    "\n",
    "history = nnr_82.fit(normed_train_data, train_labels, epochs=EPOCHS,\n",
    "                    validation_split = 0.2, verbose=0, callbacks=[early_stop, PrintDot()])"
   ]
  },
  {
   "cell_type": "markdown",
   "metadata": {},
   "source": [
    "### 41 on the hidden"
   ]
  },
  {
   "cell_type": "code",
   "execution_count": 9,
   "metadata": {},
   "outputs": [
    {
     "name": "stdout",
     "output_type": "stream",
     "text": [
      "WARNING:tensorflow:Falling back from v2 loop because of error: Failed to find data adapter that can handle input: <class 'pandas.core.frame.DataFrame'>, <class 'NoneType'>\n",
      "\n",
      "............................................."
     ]
    }
   ],
   "source": [
    "nnr_41 = build_model([ (41, 'relu') ])\n",
    "\n",
    "EPOCHS = 1000\n",
    "\n",
    "early_stop = tf.keras.callbacks.EarlyStopping(monitor='val_loss', patience=10)\n",
    "\n",
    "history = nnr_41.fit(normed_train_data, train_labels, epochs=EPOCHS,\n",
    "                    validation_split = 0.2, verbose=0, callbacks=[early_stop, PrintDot()])"
   ]
  },
  {
   "cell_type": "markdown",
   "metadata": {},
   "source": [
    "### 20 on the hidden"
   ]
  },
  {
   "cell_type": "code",
   "execution_count": 10,
   "metadata": {},
   "outputs": [
    {
     "name": "stdout",
     "output_type": "stream",
     "text": [
      "WARNING:tensorflow:Falling back from v2 loop because of error: Failed to find data adapter that can handle input: <class 'pandas.core.frame.DataFrame'>, <class 'NoneType'>\n",
      "\n",
      "....................................................................................................\n",
      "...................."
     ]
    }
   ],
   "source": [
    "nnr_20 = build_model([ (20, 'relu') ])\n",
    "\n",
    "EPOCHS = 1000\n",
    "\n",
    "early_stop = tf.keras.callbacks.EarlyStopping(monitor='val_loss', patience=10)\n",
    "\n",
    "history = nnr_20.fit(normed_train_data, train_labels, epochs=EPOCHS,\n",
    "                    validation_split = 0.2, verbose=0, callbacks=[early_stop, PrintDot()])"
   ]
  },
  {
   "cell_type": "markdown",
   "metadata": {},
   "source": [
    "### 41, 20 on the hidden"
   ]
  },
  {
   "cell_type": "code",
   "execution_count": 11,
   "metadata": {},
   "outputs": [
    {
     "name": "stdout",
     "output_type": "stream",
     "text": [
      "WARNING:tensorflow:Falling back from v2 loop because of error: Failed to find data adapter that can handle input: <class 'pandas.core.frame.DataFrame'>, <class 'NoneType'>\n",
      "\n",
      "....................................................................................................\n",
      "..............................."
     ]
    }
   ],
   "source": [
    "nnr_41_20 = build_model([ (41,), (20,) ])\n",
    "\n",
    "EPOCHS = 1000\n",
    "\n",
    "early_stop = tf.keras.callbacks.EarlyStopping(monitor='val_loss', patience=10)\n",
    "\n",
    "history = nnr_41_20.fit(normed_train_data, train_labels, epochs=EPOCHS,\n",
    "                    validation_split = 0.2, verbose=0, callbacks=[early_stop, PrintDot()])"
   ]
  },
  {
   "cell_type": "markdown",
   "metadata": {},
   "source": [
    "## Regression Tree"
   ]
  },
  {
   "cell_type": "code",
   "execution_count": 12,
   "metadata": {},
   "outputs": [],
   "source": [
    "tr = DecisionTreeRegressor(criterion='mae')"
   ]
  },
  {
   "cell_type": "code",
   "execution_count": 13,
   "metadata": {},
   "outputs": [],
   "source": [
    "tr = tr.fit(normed_train_data, train_labels)"
   ]
  },
  {
   "cell_type": "markdown",
   "metadata": {},
   "source": [
    "## Support Vector Regression"
   ]
  },
  {
   "cell_type": "code",
   "execution_count": 14,
   "metadata": {},
   "outputs": [],
   "source": [
    "svr = SVR(gamma='scale')"
   ]
  },
  {
   "cell_type": "code",
   "execution_count": 15,
   "metadata": {},
   "outputs": [],
   "source": [
    "svr = svr.fit(normed_train_data, train_labels)"
   ]
  },
  {
   "cell_type": "markdown",
   "metadata": {},
   "source": [
    "## Results"
   ]
  },
  {
   "cell_type": "code",
   "execution_count": 16,
   "metadata": {},
   "outputs": [
    {
     "name": "stdout",
     "output_type": "stream",
     "text": [
      "WARNING:tensorflow:Falling back from v2 loop because of error: Failed to find data adapter that can handle input: <class 'pandas.core.frame.DataFrame'>, <class 'NoneType'>\n",
      "WARNING:tensorflow:Falling back from v2 loop because of error: Failed to find data adapter that can handle input: <class 'pandas.core.frame.DataFrame'>, <class 'NoneType'>\n",
      "WARNING:tensorflow:Falling back from v2 loop because of error: Failed to find data adapter that can handle input: <class 'pandas.core.frame.DataFrame'>, <class 'NoneType'>\n",
      "WARNING:tensorflow:Falling back from v2 loop because of error: Failed to find data adapter that can handle input: <class 'pandas.core.frame.DataFrame'>, <class 'NoneType'>\n",
      "WARNING:tensorflow:Falling back from v2 loop because of error: Failed to find data adapter that can handle input: <class 'pandas.core.frame.DataFrame'>, <class 'NoneType'>\n",
      "WARNING:tensorflow:Falling back from v2 loop because of error: Failed to find data adapter that can handle input: <class 'pandas.core.frame.DataFrame'>, <class 'NoneType'>\n",
      "WARNING:tensorflow:Falling back from v2 loop because of error: Failed to find data adapter that can handle input: <class 'pandas.core.frame.DataFrame'>, <class 'NoneType'>\n",
      "WARNING:tensorflow:Falling back from v2 loop because of error: Failed to find data adapter that can handle input: <class 'pandas.core.frame.DataFrame'>, <class 'NoneType'>\n"
     ]
    }
   ],
   "source": [
    "predicts = {\n",
    "    'nnr_82_test': nnr_82.predict(normed_test_data),\n",
    "    'nnr_82_train': nnr_82.predict(normed_train_data),\n",
    "    'nnr_41_test': nnr_41.predict(normed_test_data),\n",
    "    'nnr_41_train': nnr_41.predict(normed_train_data),\n",
    "    'nnr_20_test': nnr_20.predict(normed_test_data),\n",
    "    'nnr_20_train': nnr_20.predict(normed_train_data),\n",
    "    'nnr_41_20_test': nnr_41_20.predict(normed_test_data),\n",
    "    'nnr_41_20_train': nnr_41_20.predict(normed_train_data),\n",
    "    'tr_test': tr.predict(normed_test_data),\n",
    "    'tr_train': tr.predict(normed_train_data),\n",
    "    'svr_test': svr.predict(normed_test_data),\n",
    "    'svr_train': svr.predict(normed_train_data),\n",
    "}\n",
    "\n",
    "labels = {\n",
    "    'test': test_labels,\n",
    "    'train': train_labels,\n",
    "}"
   ]
  },
  {
   "cell_type": "code",
   "execution_count": 17,
   "metadata": {},
   "outputs": [],
   "source": [
    "data = []\n",
    "for c in [ 'nnr_82', 'nnr_41', 'nnr_20', 'nnr_41_20', 'tr', 'svr' ]:\n",
    "    d = { 'config': c }\n",
    "    for g in [ 'test', 'train' ]:\n",
    "        k = '{}_{}'.format(c, g)\n",
    "        d['{}_mse'.format(g)] = sklearn.metrics.mean_squared_error(labels[g], predicts[k])\n",
    "        d['{}_mae'.format(g)] = sklearn.metrics.mean_absolute_error(labels[g], predicts[k])\n",
    "        d['{}_r2'.format(g)] = sklearn.metrics.r2_score(labels[g], predicts[k])\n",
    "        \n",
    "    data.append(d)"
   ]
  },
  {
   "cell_type": "code",
   "execution_count": 18,
   "metadata": {},
   "outputs": [
    {
     "data": {
      "text/html": [
       "<div>\n",
       "<style scoped>\n",
       "    .dataframe tbody tr th:only-of-type {\n",
       "        vertical-align: middle;\n",
       "    }\n",
       "\n",
       "    .dataframe tbody tr th {\n",
       "        vertical-align: top;\n",
       "    }\n",
       "\n",
       "    .dataframe thead th {\n",
       "        text-align: right;\n",
       "    }\n",
       "</style>\n",
       "<table border=\"1\" class=\"dataframe\">\n",
       "  <thead>\n",
       "    <tr style=\"text-align: right;\">\n",
       "      <th></th>\n",
       "      <th>config</th>\n",
       "      <th>test_mse</th>\n",
       "      <th>test_mae</th>\n",
       "      <th>test_r2</th>\n",
       "      <th>train_mse</th>\n",
       "      <th>train_mae</th>\n",
       "      <th>train_r2</th>\n",
       "    </tr>\n",
       "  </thead>\n",
       "  <tbody>\n",
       "    <tr>\n",
       "      <th>0</th>\n",
       "      <td>nnr_82</td>\n",
       "      <td>0.757745</td>\n",
       "      <td>0.751277</td>\n",
       "      <td>-1.709612</td>\n",
       "      <td>0.225982</td>\n",
       "      <td>0.292048</td>\n",
       "      <td>-0.104827</td>\n",
       "    </tr>\n",
       "    <tr>\n",
       "      <th>1</th>\n",
       "      <td>nnr_41</td>\n",
       "      <td>0.608807</td>\n",
       "      <td>0.649017</td>\n",
       "      <td>-1.177026</td>\n",
       "      <td>0.522286</td>\n",
       "      <td>0.512916</td>\n",
       "      <td>-1.553460</td>\n",
       "    </tr>\n",
       "    <tr>\n",
       "      <th>2</th>\n",
       "      <td>nnr_20</td>\n",
       "      <td>1.942309</td>\n",
       "      <td>1.117181</td>\n",
       "      <td>-5.945486</td>\n",
       "      <td>0.464085</td>\n",
       "      <td>0.359466</td>\n",
       "      <td>-1.268916</td>\n",
       "    </tr>\n",
       "    <tr>\n",
       "      <th>3</th>\n",
       "      <td>nnr_41_20</td>\n",
       "      <td>0.756386</td>\n",
       "      <td>0.673649</td>\n",
       "      <td>-1.704753</td>\n",
       "      <td>0.334117</td>\n",
       "      <td>0.325206</td>\n",
       "      <td>-0.633499</td>\n",
       "    </tr>\n",
       "    <tr>\n",
       "      <th>4</th>\n",
       "      <td>tr</td>\n",
       "      <td>0.013861</td>\n",
       "      <td>0.101407</td>\n",
       "      <td>0.950435</td>\n",
       "      <td>0.000000</td>\n",
       "      <td>0.000000</td>\n",
       "      <td>1.000000</td>\n",
       "    </tr>\n",
       "    <tr>\n",
       "      <th>5</th>\n",
       "      <td>svr</td>\n",
       "      <td>0.076976</td>\n",
       "      <td>0.261775</td>\n",
       "      <td>0.724742</td>\n",
       "      <td>0.008089</td>\n",
       "      <td>0.085651</td>\n",
       "      <td>0.960454</td>\n",
       "    </tr>\n",
       "  </tbody>\n",
       "</table>\n",
       "</div>"
      ],
      "text/plain": [
       "      config  test_mse  test_mae   test_r2  train_mse  train_mae  train_r2\n",
       "0     nnr_82  0.757745  0.751277 -1.709612   0.225982   0.292048 -0.104827\n",
       "1     nnr_41  0.608807  0.649017 -1.177026   0.522286   0.512916 -1.553460\n",
       "2     nnr_20  1.942309  1.117181 -5.945486   0.464085   0.359466 -1.268916\n",
       "3  nnr_41_20  0.756386  0.673649 -1.704753   0.334117   0.325206 -0.633499\n",
       "4         tr  0.013861  0.101407  0.950435   0.000000   0.000000  1.000000\n",
       "5        svr  0.076976  0.261775  0.724742   0.008089   0.085651  0.960454"
      ]
     },
     "execution_count": 18,
     "metadata": {},
     "output_type": "execute_result"
    }
   ],
   "source": [
    "results = pd.DataFrame(data)\n",
    "results.to_csv('results_3.csv', index=False)\n",
    "results"
   ]
  },
  {
   "cell_type": "code",
   "execution_count": 19,
   "metadata": {},
   "outputs": [
    {
     "data": {
      "image/png": "[encoded data removed]",
      "text/plain": [
       "<Figure size 432x288 with 1 Axes>"
      ]
     },
     "metadata": {
      "needs_background": "light"
     },
     "output_type": "display_data"
    }
   ],
   "source": [
    "plot_prediction(labels['test'], predicts['nnr_82_test'])\n",
    "# plot_prediction(labels['train'], predicts['nnr_82_train'])"
   ]
  },
  {
   "cell_type": "code",
   "execution_count": 20,
   "metadata": {},
   "outputs": [
    {
     "data": {
      "image/png": "[encoded data removed]",
      "text/plain": [
       "<Figure size 432x288 with 1 Axes>"
      ]
     },
     "metadata": {
      "needs_background": "light"
     },
     "output_type": "display_data"
    }
   ],
   "source": [
    "plot_prediction(labels['test'], predicts['tr_test'])\n",
    "# plot_prediction(labels['train'], predicts['tr_train'])"
   ]
  },
  {
   "cell_type": "code",
   "execution_count": 21,
   "metadata": {},
   "outputs": [
    {
     "data": {
      "image/png": "[encoded data removed]",
      "text/plain": [
       "<Figure size 432x288 with 1 Axes>"
      ]
     },
     "metadata": {
      "needs_background": "light"
     },
     "output_type": "display_data"
    }
   ],
   "source": [
    "plot_prediction(labels['test'], predicts['svr_test'])\n",
    "# plot_prediction(labels['train'], predicts['svr_train'])"
   ]
  },
  {
   "cell_type": "code",
   "execution_count": null,
   "metadata": {},
   "outputs": [],
   "source": []
  }
 ],
 "metadata": {
  "kernelspec": {
   "display_name": "Python 3",
   "language": "python",
   "name": "python3"
  },
  "language_info": {
   "codemirror_mode": {
    "name": "ipython",
    "version": 3
   },
   "file_extension": ".py",
   "mimetype": "text/x-python",
   "name": "python",
   "nbconvert_exporter": "python",
   "pygments_lexer": "ipython3",
   "version": "3.7.5"
  }
 },
 "nbformat": 4,
 "nbformat_minor": 4
}
