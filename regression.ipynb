{
 "cells": [
  {
   "cell_type": "code",
   "execution_count": 1,
   "metadata": {
    "colab": {},
    "colab_type": "code",
    "id": "EeNa-oJObvLv"
   },
   "outputs": [],
   "source": [
    "from __future__ import absolute_import, division, print_function, unicode_literals\n",
    "\n",
    "import pathlib\n",
    "import sklearn\n",
    "from copy import deepcopy\n",
    "from sklearn.tree import DecisionTreeRegressor\n",
    "from sklearn.svm import SVR\n",
    "from sklearn.linear_model import LinearRegression\n",
    "\n",
    "\n",
    "import matplotlib.pyplot as plt\n",
    "import numpy as np\n",
    "import pandas as pd\n",
    "import seaborn as sns\n",
    "import tensorflow as tf"
   ]
  },
  {
   "cell_type": "markdown",
   "metadata": {
    "colab_type": "text",
    "id": "EqJvuoZqbvMQ"
   },
   "source": [
    "## Data"
   ]
  },
  {
   "cell_type": "code",
   "execution_count": 2,
   "metadata": {
    "colab": {},
    "colab_type": "code",
    "id": "04ixrUQfbvMb"
   },
   "outputs": [
    {
     "name": "stdout",
     "output_type": "stream",
     "text": [
      "['tweet_per_user_std_0' 'tweet_fav_std_0' 'tweet_rt_std_0'\n",
      " 'tweet_per_user_std_1' 'tweet_fav_std_1' 'tweet_rt_std_1'\n",
      " 'tweet_per_user_std_2' 'tweet_fav_std_2' 'tweet_rt_std_2'\n",
      " 'tweet_per_user_std_3' 'tweet_fav_std_3' 'tweet_rt_std_3'\n",
      " 'tweet_per_user_std_4' 'tweet_fav_std_4' 'tweet_rt_std_4']\n"
     ]
    }
   ],
   "source": [
    "# url = 'https://raw.githubusercontent.com/k4t0mono/hashtag_analysis/master/data_log.csv'\n",
    "dataset = pd.read_csv('data_log.csv')\n",
    "\n",
    "with_std = [ 'std' in x for x in dataset.columns]\n",
    "with_std = np.extract(with_std, dataset.columns)\n",
    "print(with_std)\n",
    "# dataset.drop(with_std, axis=1, inplace=True)\n",
    "dataset.drop(['total_users'], axis=1, inplace=True)\n",
    "\n",
    "train_dataset = dataset.sample(frac=0.8, random_state=0xe621)\n",
    "test_dataset = dataset.drop(train_dataset.index)\n",
    "\n",
    "train_labels = train_dataset.pop('total_tweets')\n",
    "train_db = train_dataset.pop('db')\n",
    "test_labels = test_dataset.pop('total_tweets')\n",
    "test_db = test_dataset.pop('db')"
   ]
  },
  {
   "cell_type": "code",
   "execution_count": 3,
   "metadata": {
    "colab": {},
    "colab_type": "code",
    "id": "sDwSnA_9bvMp"
   },
   "outputs": [],
   "source": [
    "train_stats = train_dataset.describe().transpose()\n",
    "train_labels_stats = train_labels.describe().transpose()\n",
    "def norm(x):\n",
    "    return (x - train_stats['mean']) / train_stats['std']\n",
    "\n",
    "def denorm(z):\n",
    "    return z * train_labels_stats['std'] + train_labels_stats['mean']\n",
    "\n",
    "normed_train_data = norm(train_dataset)\n",
    "normed_test_data = norm(test_dataset)"
   ]
  },
  {
   "cell_type": "markdown",
   "metadata": {
    "colab_type": "text",
    "id": "zBUZORDEbvM6"
   },
   "source": [
    "## Graphs"
   ]
  },
  {
   "cell_type": "code",
   "execution_count": 4,
   "metadata": {
    "colab": {},
    "colab_type": "code",
    "id": "d5ieofrlbvNC"
   },
   "outputs": [],
   "source": [
    "def plot_prediction(test_labels, test_predictions):\n",
    "    plt.scatter(test_labels, test_predictions)\n",
    "    plt.xlabel('True Values [log(x)]')\n",
    "    plt.ylabel('Predictions [log(x)]')\n",
    "    plt.axis('equal')\n",
    "    plt.axis('square')\n",
    "    plt.xlim([0,plt.xlim()[1]])\n",
    "    plt.ylim([0,plt.ylim()[1]])\n",
    "    _ = plt.plot([-5, 5], [-5, 5])"
   ]
  },
  {
   "cell_type": "code",
   "execution_count": 5,
   "metadata": {
    "colab": {},
    "colab_type": "code",
    "id": "MFqK9mNUbvNW"
   },
   "outputs": [],
   "source": [
    "def plot_history(history):\n",
    "    hist = pd.DataFrame(history.history)\n",
    "    hist['epoch'] = history.epoch\n",
    "\n",
    "    plt.figure()\n",
    "    plt.xlabel('Epoch')\n",
    "    plt.ylabel('Mean Abs Error [MPG]')\n",
    "    plt.plot(hist['epoch'], hist['mae'],\n",
    "           label='Train Error')\n",
    "    plt.plot(hist['epoch'], hist['val_mae'],\n",
    "           label = 'Val Error')\n",
    "    #   plt.ylim([0,5])\n",
    "    plt.legend()\n",
    "\n",
    "    plt.figure()\n",
    "    plt.xlabel('Epoch')\n",
    "    plt.ylabel('Mean Square Error [$MPG^2$]')\n",
    "    plt.plot(hist['epoch'], hist['mse'],\n",
    "           label='Train Error')\n",
    "    plt.plot(hist['epoch'], hist['val_mse'],\n",
    "           label = 'Val Error')\n",
    "    #   plt.ylim([0,20])\n",
    "    plt.legend()\n",
    "\n",
    "    plt.figure()\n",
    "    plt.xlabel('Epoch')\n",
    "    plt.ylabel('Loss')\n",
    "    plt.plot(hist['epoch'], hist['loss'],\n",
    "           label='Loss')\n",
    "    plt.plot(hist['epoch'], hist['val_loss'],\n",
    "           label='Val Loss')\n",
    "    plt.legend()\n",
    "\n",
    "    plt.show()"
   ]
  },
  {
   "cell_type": "markdown",
   "metadata": {
    "colab_type": "text",
    "id": "b9Y3pDbobvNj"
   },
   "source": [
    "## Neural Network"
   ]
  },
  {
   "cell_type": "code",
   "execution_count": 6,
   "metadata": {
    "colab": {},
    "colab_type": "code",
    "id": "rVcmlbPbbvNm"
   },
   "outputs": [],
   "source": [
    "def build_model(hidden_layers, std=False):\n",
    "    shape = len(train_dataset.keys())\n",
    "        \n",
    "    layers = [\n",
    "        tf.keras.layers.Dense(41, activation='relu', input_shape=[shape])\n",
    "    ]\n",
    "    \n",
    "    for layer_config in hidden_layers:\n",
    "        if len(layer_config) == 1:\n",
    "            size, activation = layer_config[0], 'relu'\n",
    "        else:\n",
    "            size, activation = layer_config\n",
    "        \n",
    "        layers.append(tf.keras.layers.Dense(size, activation=activation))\n",
    "    \n",
    "    layers.append(tf.keras.layers.Dense(1))\n",
    "    \n",
    "    model = tf.keras.Sequential(layers)\n",
    "\n",
    "    optimizer = tf.keras.optimizers.RMSprop(0.001)\n",
    "\n",
    "    model.compile(\n",
    "        loss='mse', optimizer=optimizer, metrics=['mae', 'mse']\n",
    "    )\n",
    "    \n",
    "    return model"
   ]
  },
  {
   "cell_type": "code",
   "execution_count": 7,
   "metadata": {
    "colab": {},
    "colab_type": "code",
    "id": "AMVuTZxDbvOB"
   },
   "outputs": [],
   "source": [
    "class PrintDot(tf.keras.callbacks.Callback):\n",
    "  def on_epoch_end(self, epoch, logs):\n",
    "    if epoch % 100 == 0: print('')\n",
    "    print('.', end='')"
   ]
  },
  {
   "cell_type": "markdown",
   "metadata": {
    "colab_type": "text",
    "id": "-TTnIOTZbvOO"
   },
   "source": [
    "### 82 on the hidden"
   ]
  },
  {
   "cell_type": "code",
   "execution_count": 8,
   "metadata": {
    "colab": {
     "base_uri": "https://localhost:8080/",
     "height": 89
    },
    "colab_type": "code",
    "id": "gSkE15xRbvOT",
    "outputId": "9b878532-4609-4f57-ad62-e3ff2cbc261c"
   },
   "outputs": [
    {
     "name": "stdout",
     "output_type": "stream",
     "text": [
      "WARNING:tensorflow:Falling back from v2 loop because of error: Failed to find data adapter that can handle input: <class 'pandas.core.frame.DataFrame'>, <class 'NoneType'>\n",
      "\n",
      "................................................."
     ]
    }
   ],
   "source": [
    "nnr_82 = build_model([ (82, 'relu') ])\n",
    "\n",
    "EPOCHS = 1000\n",
    "\n",
    "early_stop = tf.keras.callbacks.EarlyStopping(monitor='val_loss', patience=10)\n",
    "\n",
    "history = nnr_82.fit(normed_train_data, train_labels, epochs=EPOCHS,\n",
    "                    validation_split = 0.2, verbose=0, callbacks=[early_stop, PrintDot()])"
   ]
  },
  {
   "cell_type": "markdown",
   "metadata": {
    "colab_type": "text",
    "id": "BYLYd7TZbvOh"
   },
   "source": [
    "### 41 on the hidden"
   ]
  },
  {
   "cell_type": "code",
   "execution_count": 9,
   "metadata": {
    "colab": {
     "base_uri": "https://localhost:8080/",
     "height": 106
    },
    "colab_type": "code",
    "id": "u_PsRDfebvOk",
    "outputId": "91bcda05-1cc6-420c-9400-43ec3d8413f8"
   },
   "outputs": [
    {
     "name": "stdout",
     "output_type": "stream",
     "text": [
      "WARNING:tensorflow:Falling back from v2 loop because of error: Failed to find data adapter that can handle input: <class 'pandas.core.frame.DataFrame'>, <class 'NoneType'>\n",
      "\n",
      "..........................................................................................."
     ]
    }
   ],
   "source": [
    "nnr_41 = build_model([ (41, 'relu') ], True)\n",
    "\n",
    "EPOCHS = 1000\n",
    "\n",
    "early_stop = tf.keras.callbacks.EarlyStopping(monitor='val_loss', patience=10)\n",
    "\n",
    "history = nnr_41.fit(normed_train_data, train_labels, epochs=EPOCHS,\n",
    "                    validation_split = 0.2, verbose=0, callbacks=[early_stop, PrintDot()])"
   ]
  },
  {
   "cell_type": "markdown",
   "metadata": {
    "colab_type": "text",
    "id": "CmZIG_kEbvOy"
   },
   "source": [
    "### 20 on the hidden"
   ]
  },
  {
   "cell_type": "code",
   "execution_count": 10,
   "metadata": {
    "colab": {
     "base_uri": "https://localhost:8080/",
     "height": 89
    },
    "colab_type": "code",
    "id": "Jq7iNzeObvO1",
    "outputId": "dd31f533-84a5-41f4-ffc4-a72d00ec6328"
   },
   "outputs": [
    {
     "name": "stdout",
     "output_type": "stream",
     "text": [
      "WARNING:tensorflow:Falling back from v2 loop because of error: Failed to find data adapter that can handle input: <class 'pandas.core.frame.DataFrame'>, <class 'NoneType'>\n",
      "\n",
      "......................................................................................."
     ]
    }
   ],
   "source": [
    "nnr_20 = build_model([ (20, 'relu') ], True)\n",
    "\n",
    "EPOCHS = 1000\n",
    "\n",
    "early_stop = tf.keras.callbacks.EarlyStopping(monitor='val_loss', patience=10)\n",
    "\n",
    "history = nnr_20.fit(normed_train_data, train_labels, epochs=EPOCHS,\n",
    "                    validation_split = 0.2, verbose=0, callbacks=[early_stop, PrintDot()])"
   ]
  },
  {
   "cell_type": "markdown",
   "metadata": {
    "colab_type": "text",
    "id": "d9uMQ9u7bvPP"
   },
   "source": [
    "## Regression Tree"
   ]
  },
  {
   "cell_type": "markdown",
   "metadata": {
    "colab_type": "text",
    "id": "wCq1677cd6yb"
   },
   "source": [
    "### Default"
   ]
  },
  {
   "cell_type": "code",
   "execution_count": 11,
   "metadata": {
    "colab": {},
    "colab_type": "code",
    "id": "spmeMfDebvPT"
   },
   "outputs": [],
   "source": [
    "tr_default = DecisionTreeRegressor(criterion='mse', max_features=1)\n",
    "tr_default = tr_default.fit(normed_train_data, train_labels)"
   ]
  },
  {
   "cell_type": "markdown",
   "metadata": {
    "colab_type": "text",
    "id": "n4EHNlx1d-qg"
   },
   "source": [
    "### Depth 3 Features 1"
   ]
  },
  {
   "cell_type": "code",
   "execution_count": 12,
   "metadata": {
    "colab": {},
    "colab_type": "code",
    "id": "0YNaaSRdeCHV"
   },
   "outputs": [],
   "source": [
    "tr_d3f1 = DecisionTreeRegressor(criterion='mse', max_depth=3, max_features=1)\n",
    "tr_d3f1 = tr_d3f1.fit(normed_train_data, train_labels)"
   ]
  },
  {
   "cell_type": "markdown",
   "metadata": {
    "colab_type": "text",
    "id": "pKSfVawChcx7"
   },
   "source": [
    "### Depth 3 Features 3"
   ]
  },
  {
   "cell_type": "code",
   "execution_count": 13,
   "metadata": {
    "colab": {},
    "colab_type": "code",
    "id": "llL2bQf0hdQ3"
   },
   "outputs": [],
   "source": [
    "tr_d3f3 = DecisionTreeRegressor(criterion='mse', max_depth=3, max_features=1)\n",
    "tr_d3f3 = tr_d3f3.fit(normed_train_data, train_labels)"
   ]
  },
  {
   "cell_type": "markdown",
   "metadata": {
    "colab_type": "text",
    "id": "W8frCo75bvPr"
   },
   "source": [
    "## Support Vector Regression"
   ]
  },
  {
   "cell_type": "markdown",
   "metadata": {},
   "source": [
    "### RBF"
   ]
  },
  {
   "cell_type": "code",
   "execution_count": 14,
   "metadata": {
    "colab": {},
    "colab_type": "code",
    "id": "nerCwZlZbvPu"
   },
   "outputs": [],
   "source": [
    "svr_rbf = SVR(kernel='rbf', gamma='scale')\n",
    "svr_rbf = svr_rbf.fit(normed_train_data, train_labels)"
   ]
  },
  {
   "cell_type": "markdown",
   "metadata": {},
   "source": [
    "### Polynomial"
   ]
  },
  {
   "cell_type": "code",
   "execution_count": 15,
   "metadata": {
    "colab": {},
    "colab_type": "code",
    "id": "j_BFi3E8bvP6"
   },
   "outputs": [],
   "source": [
    "svr_poly = SVR(kernel='poly', gamma='scale')\n",
    "svr_poly = svr_poly.fit(normed_train_data, train_labels)"
   ]
  },
  {
   "cell_type": "markdown",
   "metadata": {},
   "source": [
    "### Linear"
   ]
  },
  {
   "cell_type": "code",
   "execution_count": 16,
   "metadata": {},
   "outputs": [],
   "source": [
    "svr_linear = SVR(kernel='linear', gamma='scale')\n",
    "svr_linear = svr_linear.fit(normed_train_data, train_labels)"
   ]
  },
  {
   "cell_type": "markdown",
   "metadata": {},
   "source": [
    "## Linear Model"
   ]
  },
  {
   "cell_type": "markdown",
   "metadata": {},
   "source": [
    "## Ordinary Least Squares"
   ]
  },
  {
   "cell_type": "code",
   "execution_count": 17,
   "metadata": {},
   "outputs": [],
   "source": [
    "linear_reg = LinearRegression()\n",
    "linear_reg = linear_reg.fit(normed_train_data, train_labels)"
   ]
  },
  {
   "cell_type": "markdown",
   "metadata": {
    "colab_type": "text",
    "id": "zSVX8BhQbvQB"
   },
   "source": [
    "## Results"
   ]
  },
  {
   "cell_type": "code",
   "execution_count": 18,
   "metadata": {
    "colab": {
     "base_uri": "https://localhost:8080/",
     "height": 176
    },
    "colab_type": "code",
    "id": "Z2d0LIBSbvQD",
    "outputId": "8fa741cb-859f-4013-a367-a332fc76245b"
   },
   "outputs": [
    {
     "name": "stdout",
     "output_type": "stream",
     "text": [
      "WARNING:tensorflow:Falling back from v2 loop because of error: Failed to find data adapter that can handle input: <class 'pandas.core.frame.DataFrame'>, <class 'NoneType'>\n",
      "WARNING:tensorflow:Falling back from v2 loop because of error: Failed to find data adapter that can handle input: <class 'pandas.core.frame.DataFrame'>, <class 'NoneType'>\n",
      "WARNING:tensorflow:Falling back from v2 loop because of error: Failed to find data adapter that can handle input: <class 'pandas.core.frame.DataFrame'>, <class 'NoneType'>\n",
      "WARNING:tensorflow:Falling back from v2 loop because of error: Failed to find data adapter that can handle input: <class 'pandas.core.frame.DataFrame'>, <class 'NoneType'>\n",
      "WARNING:tensorflow:Falling back from v2 loop because of error: Failed to find data adapter that can handle input: <class 'pandas.core.frame.DataFrame'>, <class 'NoneType'>\n",
      "WARNING:tensorflow:Falling back from v2 loop because of error: Failed to find data adapter that can handle input: <class 'pandas.core.frame.DataFrame'>, <class 'NoneType'>\n"
     ]
    }
   ],
   "source": [
    "predicts = {\n",
    "    'nnr_82_test': nnr_82.predict(normed_test_data),\n",
    "    'nnr_82_train': nnr_82.predict(normed_train_data),\n",
    "    'nnr_41_test': nnr_41.predict(normed_test_data),\n",
    "    'nnr_41_train': nnr_41.predict(normed_train_data),\n",
    "    'nnr_20_test': nnr_20.predict(normed_test_data),\n",
    "    'nnr_20_train': nnr_20.predict(normed_train_data),\n",
    "    'tr_default_test': tr_default.predict(normed_test_data),\n",
    "    'tr_default_train': tr_default.predict(normed_train_data),\n",
    "    'tr_d3f1_test': tr_d3f1.predict(normed_test_data),\n",
    "    'tr_d3f1_train': tr_d3f1.predict(normed_train_data),\n",
    "    'tr_d3f3_test': tr_d3f3.predict(normed_test_data),\n",
    "    'tr_d3f3_train': tr_d3f3.predict(normed_train_data),\n",
    "    'svr_rbf_test': svr_rbf.predict(normed_test_data),\n",
    "    'svr_rbf_train': svr_rbf.predict(normed_train_data),\n",
    "    'svr_poly_test': svr_poly.predict(normed_test_data),\n",
    "    'svr_poly_train': svr_poly.predict(normed_train_data),\n",
    "    'svr_linear_test': svr_linear.predict(normed_test_data),\n",
    "    'svr_linear_train': svr_linear.predict(normed_train_data),\n",
    "    'linear_reg_test': linear_reg.predict(normed_test_data),\n",
    "    'linear_reg_train': linear_reg.predict(normed_train_data),\n",
    "}\n",
    "\n",
    "labels = {\n",
    "    'test': test_labels,\n",
    "    'train': train_labels,\n",
    "}"
   ]
  },
  {
   "cell_type": "code",
   "execution_count": 19,
   "metadata": {
    "colab": {},
    "colab_type": "code",
    "id": "jjcsdL56bvQM"
   },
   "outputs": [],
   "source": [
    "data = []\n",
    "for c in [ 'nnr_82', 'nnr_41', 'nnr_20', 'tr_default', 'tr_d3f1', 'tr_d3f3', 'svr_rbf', 'svr_poly', 'svr_linear', 'linear_reg' ]:\n",
    "    d = { 'config': c }\n",
    "    for g in [ 'test', 'train' ]:\n",
    "        k = '{}_{}'.format(c, g)\n",
    "        d['{}_mse'.format(g)] = sklearn.metrics.mean_squared_error(labels[g], predicts[k])\n",
    "        d['{}_mae'.format(g)] = sklearn.metrics.mean_absolute_error(labels[g], predicts[k])\n",
    "        d['{}_r2'.format(g)] = sklearn.metrics.r2_score(labels[g], predicts[k])\n",
    "        \n",
    "    data.append(d)"
   ]
  },
  {
   "cell_type": "code",
   "execution_count": 20,
   "metadata": {
    "colab": {
     "base_uri": "https://localhost:8080/",
     "height": 300
    },
    "colab_type": "code",
    "id": "zMS0GrJhbvQS",
    "outputId": "25f29cc6-7622-41aa-bfaf-41afcbbdf0c3"
   },
   "outputs": [
    {
     "data": {
      "text/html": [
       "<div>\n",
       "<style scoped>\n",
       "    .dataframe tbody tr th:only-of-type {\n",
       "        vertical-align: middle;\n",
       "    }\n",
       "\n",
       "    .dataframe tbody tr th {\n",
       "        vertical-align: top;\n",
       "    }\n",
       "\n",
       "    .dataframe thead th {\n",
       "        text-align: right;\n",
       "    }\n",
       "</style>\n",
       "<table border=\"1\" class=\"dataframe\">\n",
       "  <thead>\n",
       "    <tr style=\"text-align: right;\">\n",
       "      <th></th>\n",
       "      <th>config</th>\n",
       "      <th>test_mse</th>\n",
       "      <th>test_mae</th>\n",
       "      <th>test_r2</th>\n",
       "      <th>train_mse</th>\n",
       "      <th>train_mae</th>\n",
       "      <th>train_r2</th>\n",
       "    </tr>\n",
       "  </thead>\n",
       "  <tbody>\n",
       "    <tr>\n",
       "      <th>0</th>\n",
       "      <td>nnr_82</td>\n",
       "      <td>0.999870</td>\n",
       "      <td>0.837292</td>\n",
       "      <td>-2.575427</td>\n",
       "      <td>2.334048e-01</td>\n",
       "      <td>3.713074e-01</td>\n",
       "      <td>-0.141117</td>\n",
       "    </tr>\n",
       "    <tr>\n",
       "      <th>1</th>\n",
       "      <td>nnr_41</td>\n",
       "      <td>0.717315</td>\n",
       "      <td>0.693850</td>\n",
       "      <td>-1.565039</td>\n",
       "      <td>4.539682e-01</td>\n",
       "      <td>3.819272e-01</td>\n",
       "      <td>-1.219452</td>\n",
       "    </tr>\n",
       "    <tr>\n",
       "      <th>2</th>\n",
       "      <td>nnr_20</td>\n",
       "      <td>1.149392</td>\n",
       "      <td>0.802560</td>\n",
       "      <td>-3.110101</td>\n",
       "      <td>3.651989e-01</td>\n",
       "      <td>3.478929e-01</td>\n",
       "      <td>-0.785459</td>\n",
       "    </tr>\n",
       "    <tr>\n",
       "      <th>3</th>\n",
       "      <td>tr_default</td>\n",
       "      <td>0.533701</td>\n",
       "      <td>0.587060</td>\n",
       "      <td>-0.908456</td>\n",
       "      <td>0.000000e+00</td>\n",
       "      <td>0.000000e+00</td>\n",
       "      <td>1.000000</td>\n",
       "    </tr>\n",
       "    <tr>\n",
       "      <th>4</th>\n",
       "      <td>tr_d3f1</td>\n",
       "      <td>0.218170</td>\n",
       "      <td>0.333336</td>\n",
       "      <td>0.219848</td>\n",
       "      <td>2.477931e-02</td>\n",
       "      <td>1.169373e-01</td>\n",
       "      <td>0.878854</td>\n",
       "    </tr>\n",
       "    <tr>\n",
       "      <th>5</th>\n",
       "      <td>tr_d3f3</td>\n",
       "      <td>0.107973</td>\n",
       "      <td>0.217111</td>\n",
       "      <td>0.613900</td>\n",
       "      <td>3.527733e-02</td>\n",
       "      <td>1.466256e-01</td>\n",
       "      <td>0.827529</td>\n",
       "    </tr>\n",
       "    <tr>\n",
       "      <th>6</th>\n",
       "      <td>svr_rbf</td>\n",
       "      <td>0.103446</td>\n",
       "      <td>0.304163</td>\n",
       "      <td>0.630090</td>\n",
       "      <td>8.398443e-03</td>\n",
       "      <td>8.714380e-02</td>\n",
       "      <td>0.958940</td>\n",
       "    </tr>\n",
       "    <tr>\n",
       "      <th>7</th>\n",
       "      <td>svr_poly</td>\n",
       "      <td>0.168674</td>\n",
       "      <td>0.392031</td>\n",
       "      <td>0.396839</td>\n",
       "      <td>3.309167e-02</td>\n",
       "      <td>1.437455e-01</td>\n",
       "      <td>0.838215</td>\n",
       "    </tr>\n",
       "    <tr>\n",
       "      <th>8</th>\n",
       "      <td>svr_linear</td>\n",
       "      <td>0.113713</td>\n",
       "      <td>0.326297</td>\n",
       "      <td>0.593375</td>\n",
       "      <td>9.079338e-03</td>\n",
       "      <td>9.318071e-02</td>\n",
       "      <td>0.955611</td>\n",
       "    </tr>\n",
       "    <tr>\n",
       "      <th>9</th>\n",
       "      <td>linear_reg</td>\n",
       "      <td>0.125316</td>\n",
       "      <td>0.337756</td>\n",
       "      <td>0.551885</td>\n",
       "      <td>1.452221e-30</td>\n",
       "      <td>1.009294e-15</td>\n",
       "      <td>1.000000</td>\n",
       "    </tr>\n",
       "  </tbody>\n",
       "</table>\n",
       "</div>"
      ],
      "text/plain": [
       "       config  test_mse  test_mae   test_r2     train_mse     train_mae  \\\n",
       "0      nnr_82  0.999870  0.837292 -2.575427  2.334048e-01  3.713074e-01   \n",
       "1      nnr_41  0.717315  0.693850 -1.565039  4.539682e-01  3.819272e-01   \n",
       "2      nnr_20  1.149392  0.802560 -3.110101  3.651989e-01  3.478929e-01   \n",
       "3  tr_default  0.533701  0.587060 -0.908456  0.000000e+00  0.000000e+00   \n",
       "4     tr_d3f1  0.218170  0.333336  0.219848  2.477931e-02  1.169373e-01   \n",
       "5     tr_d3f3  0.107973  0.217111  0.613900  3.527733e-02  1.466256e-01   \n",
       "6     svr_rbf  0.103446  0.304163  0.630090  8.398443e-03  8.714380e-02   \n",
       "7    svr_poly  0.168674  0.392031  0.396839  3.309167e-02  1.437455e-01   \n",
       "8  svr_linear  0.113713  0.326297  0.593375  9.079338e-03  9.318071e-02   \n",
       "9  linear_reg  0.125316  0.337756  0.551885  1.452221e-30  1.009294e-15   \n",
       "\n",
       "   train_r2  \n",
       "0 -0.141117  \n",
       "1 -1.219452  \n",
       "2 -0.785459  \n",
       "3  1.000000  \n",
       "4  0.878854  \n",
       "5  0.827529  \n",
       "6  0.958940  \n",
       "7  0.838215  \n",
       "8  0.955611  \n",
       "9  1.000000  "
      ]
     },
     "execution_count": 20,
     "metadata": {},
     "output_type": "execute_result"
    }
   ],
   "source": [
    "results = pd.DataFrame(data)\n",
    "results.to_csv('results_notu.csv', index=False)\n",
    "results"
   ]
  },
  {
   "cell_type": "code",
   "execution_count": 21,
   "metadata": {
    "colab": {
     "base_uri": "https://localhost:8080/",
     "height": 279
    },
    "colab_type": "code",
    "id": "D-rWvT0GiGoH",
    "outputId": "e27056b3-5371-4079-cbec-7c144b71970a"
   },
   "outputs": [
    {
     "data": {
      "image/png": "[encoded data removed]",
      "text/plain": [
       "<Figure size 432x288 with 1 Axes>"
      ]
     },
     "metadata": {
      "needs_background": "light"
     },
     "output_type": "display_data"
    }
   ],
   "source": [
    "plot_prediction(labels['test'], predicts['tr_d3f3_test'])\n",
    "plot_prediction(labels['train'], predicts['tr_d3f3_train'])"
   ]
  },
  {
   "cell_type": "code",
   "execution_count": 22,
   "metadata": {
    "colab": {},
    "colab_type": "code",
    "id": "Ld66P-X948_p"
   },
   "outputs": [
    {
     "data": {
      "text/html": [
       "<div>\n",
       "<style scoped>\n",
       "    .dataframe tbody tr th:only-of-type {\n",
       "        vertical-align: middle;\n",
       "    }\n",
       "\n",
       "    .dataframe tbody tr th {\n",
       "        vertical-align: top;\n",
       "    }\n",
       "\n",
       "    .dataframe thead th {\n",
       "        text-align: right;\n",
       "    }\n",
       "</style>\n",
       "<table border=\"1\" class=\"dataframe\">\n",
       "  <thead>\n",
       "    <tr style=\"text-align: right;\">\n",
       "      <th></th>\n",
       "      <th>config</th>\n",
       "      <th>test_mse</th>\n",
       "      <th>test_mae</th>\n",
       "      <th>test_r2</th>\n",
       "      <th>train_mse</th>\n",
       "      <th>train_mae</th>\n",
       "      <th>train_r2</th>\n",
       "    </tr>\n",
       "  </thead>\n",
       "  <tbody>\n",
       "    <tr>\n",
       "      <th>6</th>\n",
       "      <td>svr_rbf</td>\n",
       "      <td>0.103446</td>\n",
       "      <td>0.304163</td>\n",
       "      <td>0.630090</td>\n",
       "      <td>8.398443e-03</td>\n",
       "      <td>8.714380e-02</td>\n",
       "      <td>0.958940</td>\n",
       "    </tr>\n",
       "    <tr>\n",
       "      <th>5</th>\n",
       "      <td>tr_d3f3</td>\n",
       "      <td>0.107973</td>\n",
       "      <td>0.217111</td>\n",
       "      <td>0.613900</td>\n",
       "      <td>3.527733e-02</td>\n",
       "      <td>1.466256e-01</td>\n",
       "      <td>0.827529</td>\n",
       "    </tr>\n",
       "    <tr>\n",
       "      <th>8</th>\n",
       "      <td>svr_linear</td>\n",
       "      <td>0.113713</td>\n",
       "      <td>0.326297</td>\n",
       "      <td>0.593375</td>\n",
       "      <td>9.079338e-03</td>\n",
       "      <td>9.318071e-02</td>\n",
       "      <td>0.955611</td>\n",
       "    </tr>\n",
       "    <tr>\n",
       "      <th>9</th>\n",
       "      <td>linear_reg</td>\n",
       "      <td>0.125316</td>\n",
       "      <td>0.337756</td>\n",
       "      <td>0.551885</td>\n",
       "      <td>1.452221e-30</td>\n",
       "      <td>1.009294e-15</td>\n",
       "      <td>1.000000</td>\n",
       "    </tr>\n",
       "    <tr>\n",
       "      <th>7</th>\n",
       "      <td>svr_poly</td>\n",
       "      <td>0.168674</td>\n",
       "      <td>0.392031</td>\n",
       "      <td>0.396839</td>\n",
       "      <td>3.309167e-02</td>\n",
       "      <td>1.437455e-01</td>\n",
       "      <td>0.838215</td>\n",
       "    </tr>\n",
       "    <tr>\n",
       "      <th>4</th>\n",
       "      <td>tr_d3f1</td>\n",
       "      <td>0.218170</td>\n",
       "      <td>0.333336</td>\n",
       "      <td>0.219848</td>\n",
       "      <td>2.477931e-02</td>\n",
       "      <td>1.169373e-01</td>\n",
       "      <td>0.878854</td>\n",
       "    </tr>\n",
       "    <tr>\n",
       "      <th>3</th>\n",
       "      <td>tr_default</td>\n",
       "      <td>0.533701</td>\n",
       "      <td>0.587060</td>\n",
       "      <td>-0.908456</td>\n",
       "      <td>0.000000e+00</td>\n",
       "      <td>0.000000e+00</td>\n",
       "      <td>1.000000</td>\n",
       "    </tr>\n",
       "    <tr>\n",
       "      <th>1</th>\n",
       "      <td>nnr_41</td>\n",
       "      <td>0.717315</td>\n",
       "      <td>0.693850</td>\n",
       "      <td>-1.565039</td>\n",
       "      <td>4.539682e-01</td>\n",
       "      <td>3.819272e-01</td>\n",
       "      <td>-1.219452</td>\n",
       "    </tr>\n",
       "    <tr>\n",
       "      <th>0</th>\n",
       "      <td>nnr_82</td>\n",
       "      <td>0.999870</td>\n",
       "      <td>0.837292</td>\n",
       "      <td>-2.575427</td>\n",
       "      <td>2.334048e-01</td>\n",
       "      <td>3.713074e-01</td>\n",
       "      <td>-0.141117</td>\n",
       "    </tr>\n",
       "    <tr>\n",
       "      <th>2</th>\n",
       "      <td>nnr_20</td>\n",
       "      <td>1.149392</td>\n",
       "      <td>0.802560</td>\n",
       "      <td>-3.110101</td>\n",
       "      <td>3.651989e-01</td>\n",
       "      <td>3.478929e-01</td>\n",
       "      <td>-0.785459</td>\n",
       "    </tr>\n",
       "  </tbody>\n",
       "</table>\n",
       "</div>"
      ],
      "text/plain": [
       "       config  test_mse  test_mae   test_r2     train_mse     train_mae  \\\n",
       "6     svr_rbf  0.103446  0.304163  0.630090  8.398443e-03  8.714380e-02   \n",
       "5     tr_d3f3  0.107973  0.217111  0.613900  3.527733e-02  1.466256e-01   \n",
       "8  svr_linear  0.113713  0.326297  0.593375  9.079338e-03  9.318071e-02   \n",
       "9  linear_reg  0.125316  0.337756  0.551885  1.452221e-30  1.009294e-15   \n",
       "7    svr_poly  0.168674  0.392031  0.396839  3.309167e-02  1.437455e-01   \n",
       "4     tr_d3f1  0.218170  0.333336  0.219848  2.477931e-02  1.169373e-01   \n",
       "3  tr_default  0.533701  0.587060 -0.908456  0.000000e+00  0.000000e+00   \n",
       "1      nnr_41  0.717315  0.693850 -1.565039  4.539682e-01  3.819272e-01   \n",
       "0      nnr_82  0.999870  0.837292 -2.575427  2.334048e-01  3.713074e-01   \n",
       "2      nnr_20  1.149392  0.802560 -3.110101  3.651989e-01  3.478929e-01   \n",
       "\n",
       "   train_r2  \n",
       "6  0.958940  \n",
       "5  0.827529  \n",
       "8  0.955611  \n",
       "9  1.000000  \n",
       "7  0.838215  \n",
       "4  0.878854  \n",
       "3  1.000000  \n",
       "1 -1.219452  \n",
       "0 -0.141117  \n",
       "2 -0.785459  "
      ]
     },
     "execution_count": 22,
     "metadata": {},
     "output_type": "execute_result"
    }
   ],
   "source": [
    "results.sort_values('test_mse')"
   ]
  },
  {
   "cell_type": "code",
   "execution_count": 23,
   "metadata": {},
   "outputs": [
    {
     "name": "stdout",
     "output_type": "stream",
     "text": [
      "31 tweet_rt_std_3 0.5002862648258279\n",
      "27 tweet_per_user_std_3 0.3812269315989635\n",
      "15 tweet_rt_std_1 0.37709398029293734\n",
      "18 tweet_per_user_mean_2 0.3357138951180257\n",
      "23 tweet_rt_std_2 0.32751776919933756\n"
     ]
    }
   ],
   "source": [
    "for i in linear_reg.coef_.argsort()[-5:][::-1]:\n",
    "    print(i, normed_test_data.columns[i], linear_reg.coef_[i])"
   ]
  },
  {
   "cell_type": "code",
   "execution_count": null,
   "metadata": {},
   "outputs": [],
   "source": []
  }
 ],
 "metadata": {
  "colab": {
   "collapsed_sections": [],
   "name": "Copy of regression.ipynb",
   "provenance": []
  },
  "kernelspec": {
   "display_name": "Python 3",
   "language": "python",
   "name": "python3"
  },
  "language_info": {
   "codemirror_mode": {
    "name": "ipython",
    "version": 3
   },
   "file_extension": ".py",
   "mimetype": "text/x-python",
   "name": "python",
   "nbconvert_exporter": "python",
   "pygments_lexer": "ipython3",
   "version": "3.7.5"
  }
 },
 "nbformat": 4,
 "nbformat_minor": 4
}
